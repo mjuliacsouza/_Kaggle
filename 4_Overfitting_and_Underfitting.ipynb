{
 "cells": [
  {
   "cell_type": "markdown",
   "id": "309bb086",
   "metadata": {},
   "source": [
    "# Overfitting and Underfitting\n",
    "\n",
    "Reference: [Kaggle](https://www.kaggle.com/code/ryanholbrook/overfitting-and-underfitting/tutorial)"
   ]
  },
  {
   "cell_type": "markdown",
   "id": "3198c07b",
   "metadata": {},
   "source": [
    "- we'll examine at the learning curves for evidence of underfitting and overfitting and look at a couple of strategies for correcting it."
   ]
  },
  {
   "cell_type": "code",
   "execution_count": null,
   "id": "042499fb",
   "metadata": {},
   "outputs": [],
   "source": [
    "import pandas as pd\n",
    "import numpy as np\n",
    "\n",
    "import matplotlib.pyplot as plt\n",
    "import seaborn\n",
    "\n",
    "import tensorflow as tf"
   ]
  }
 ],
 "metadata": {
  "kernelspec": {
   "display_name": "Python 3",
   "language": "python",
   "name": "python3"
  },
  "language_info": {
   "codemirror_mode": {
    "name": "ipython",
    "version": 3
   },
   "file_extension": ".py",
   "mimetype": "text/x-python",
   "name": "python",
   "nbconvert_exporter": "python",
   "pygments_lexer": "ipython3",
   "version": "3.8.5"
  }
 },
 "nbformat": 4,
 "nbformat_minor": 5
}
