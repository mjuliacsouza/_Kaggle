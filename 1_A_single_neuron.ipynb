{
 "cells": [
  {
   "cell_type": "markdown",
   "id": "f0416d61",
   "metadata": {},
   "source": [
    "# A Single Neuron\n",
    "\n",
    "Reference: https://www.kaggle.com/code/ryanholbrook/a-single-neuron"
   ]
  },
  {
   "cell_type": "code",
   "execution_count": 1,
   "id": "693d22bd",
   "metadata": {},
   "outputs": [],
   "source": [
    "import pandas as pd\n",
    "import numpy as np"
   ]
  },
  {
   "cell_type": "code",
   "execution_count": 2,
   "id": "42f32790",
   "metadata": {},
   "outputs": [],
   "source": [
    "from tensorflow import keras\n",
    "from tensorflow.keras import layers\n",
    "\n",
    "# Create a network with 1 linear unit (output) and 3 variables in the input\n",
    "# Creates a neural network as a stack of layers\n",
    "model = keras.Sequential([\n",
    "    layers.Dense(units=1, input_shape=[3])\n",
    "])"
   ]
  }
 ],
 "metadata": {
  "kernelspec": {
   "display_name": "Python 3",
   "language": "python",
   "name": "python3"
  },
  "language_info": {
   "codemirror_mode": {
    "name": "ipython",
    "version": 3
   },
   "file_extension": ".py",
   "mimetype": "text/x-python",
   "name": "python",
   "nbconvert_exporter": "python",
   "pygments_lexer": "ipython3",
   "version": "3.8.5"
  }
 },
 "nbformat": 4,
 "nbformat_minor": 5
}
