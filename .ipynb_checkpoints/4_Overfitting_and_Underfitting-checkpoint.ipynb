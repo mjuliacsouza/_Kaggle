{
 "cells": [
  {
   "cell_type": "markdown",
   "id": "309bb086",
   "metadata": {},
   "source": [
    "# Overfitting and Underfitting\n",
    "\n",
    "Reference: [Kaggle](https://www.kaggle.com/code/ryanholbrook/overfitting-and-underfitting/tutorial)"
   ]
  },
  {
   "cell_type": "code",
   "execution_count": 1,
   "id": "2caed212",
   "metadata": {},
   "outputs": [],
   "source": [
    "import pandas as pd\n",
    "import numpy as np\n",
    "\n",
    "import matplotlib.pyplot as plt\n",
    "import seaborn\n",
    "\n",
    "import tensorflow as tf"
   ]
  },
  {
   "cell_type": "markdown",
   "id": "22f36083",
   "metadata": {},
   "source": [
    "- we'll examine at the learning curves for evidence of underfitting and overfitting and look at a couple of strategies for correcting it."
   ]
  },
  {
   "cell_type": "markdown",
   "id": "e8b1f55b",
   "metadata": {},
   "source": [
    "## Interpreting Learning Curves\n",
    "\n",
    "- we have two kinds of information in *training data*: **signal** and **noise**.\n",
    "    - ***signal***: part that generalizes, help your model to make predictions from new data\n",
    "    - ***noise***: part that is *only* true for training data\n",
    "- we train a model by choosing weights or parameters that minimize the loss on a training set\n",
    "- **leaning curves** are the plots of loss on the training and on the validation set, epoch by epoch.\n",
    "- the training loss will go down when the mode learns signal or when it learns noise\n",
    "- we have to mkae a trade: we can get the model to learn more signal at the cost of learning more noise. \n",
    "    - as long as the trade is in our favor, the validation loss will continue to decrease\n",
    "- this trade-off indicates that there can be two problems that occur when training model: **not enough signal** or **too much noise**.\n",
    "    - **Underfitting** the training set is when the loss is not as low as it could be because the model hasn't learned enough *signal*\n",
    "    - **Overfitting** the training set is when the loss is not as low as it could be because the model learned too much *noise*"
   ]
  },
  {
   "cell_type": "markdown",
   "id": "137b81f6",
   "metadata": {},
   "source": [
    "## Capcity\n",
    "\n",
    "- refers to the *size* and *complexity* of the patterns it is able to learn\n",
    "    - in NN, this will largely be determined by how manyneurons it has and how they are connected together\n",
    "    - if the network is underfitting, you should ttry increasing its capacity\n",
    "- to increase the capacity of a network you can either make it *wider* (more unis to existing layers) or make it *deeper* (adding more layers)\n",
    "    - wider networks have an easier time learning more linear relationships\n",
    "    - deeper networks prefer more nonlinear ones"
   ]
  },
  {
   "cell_type": "code",
   "execution_count": 3,
   "id": "d5f60326",
   "metadata": {},
   "outputs": [],
   "source": [
    "from tensorflow import keras\n",
    "from tensorflow.keras import layers\n",
    "\n",
    "model = keras.Sequential([\n",
    "    layers.Dense(16, activation='relu'),\n",
    "    layers.Dense(1),\n",
    "])\n",
    "\n",
    "wider = keras.Sequential([\n",
    "    layers.Dense(32, activation='relu'),\n",
    "    layers.Dense(1),\n",
    "])\n",
    "\n",
    "deeper = keras.Sequential([\n",
    "    layers.Dense(16, activation='relu'),\n",
    "    layers.Dense(16, activation='relu'),\n",
    "    layers.Dense(1),\n",
    "])"
   ]
  }
 ],
 "metadata": {
  "kernelspec": {
   "display_name": "Python 3",
   "language": "python",
   "name": "python3"
  },
  "language_info": {
   "codemirror_mode": {
    "name": "ipython",
    "version": 3
   },
   "file_extension": ".py",
   "mimetype": "text/x-python",
   "name": "python",
   "nbconvert_exporter": "python",
   "pygments_lexer": "ipython3",
   "version": "3.8.5"
  }
 },
 "nbformat": 4,
 "nbformat_minor": 5
}
