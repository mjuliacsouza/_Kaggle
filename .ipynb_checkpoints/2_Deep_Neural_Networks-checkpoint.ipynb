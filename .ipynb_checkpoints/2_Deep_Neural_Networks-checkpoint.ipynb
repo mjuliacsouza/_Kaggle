{
 "cells": [
  {
   "cell_type": "markdown",
   "id": "8f53ff88",
   "metadata": {},
   "source": [
    "# Deep Neural Networks"
   ]
  },
  {
   "cell_type": "markdown",
   "id": "622875a6",
   "metadata": {},
   "source": [
    " - ***modularity***:  building up a complex network from simpler functional units"
   ]
  },
  {
   "cell_type": "markdown",
   "id": "5cd50412",
   "metadata": {},
   "source": [
    "## Layers\n",
    "\n",
    "- in neural networkds, neurons are organized into **layers**\n",
    "- when we collect together linear units having a common set of inputs, we a **dense** layer\n",
    "- each layer will performe some kind of relatively simple transformation\n",
    "- a deep stack of layers will transform its inputs in more and more complex ways (when wel trained) getting us a bit closer to  solution\n",
    "- a layer can be, essentially, any kind of data transformation"
   ]
  },
  {
   "attachments": {},
   "cell_type": "markdown",
   "id": "859de8e6",
   "metadata": {},
   "source": [
    "## The Activation Function \n",
    "\n",
    "More: [link](https://matheusfacure.github.io/2017/07/12/activ-func/)\n",
    "\n",
    "- dense layers by themselves can never move us out of the world of lines and planes, we need somethin that is *nonlinear*\n",
    "- without activation function, neural networks can only learn linear relationships\n",
    "- it's simply a function that we apply to each of a layer's outputs (*activations*)\n",
    "\n",
    "### ReLu function\n",
    "\n",
    "- Rectifier function: max(0, x)\n",
    "\n",
    "![ReLu.png](ReLu.png)\n",
    "\n",
    "Applying the function to th eoutputs of a neuron will put a *bend* in the data, moving us away from simple lines, the output becomes $max(0, w*x+b)$"
   ]
  },
  {
   "cell_type": "markdown",
   "id": "b8441e21",
   "metadata": {},
   "source": [
    "## Stacking Dense Layers\n",
    "\n"
   ]
  }
 ],
 "metadata": {
  "kernelspec": {
   "display_name": "Python 3",
   "language": "python",
   "name": "python3"
  },
  "language_info": {
   "codemirror_mode": {
    "name": "ipython",
    "version": 3
   },
   "file_extension": ".py",
   "mimetype": "text/x-python",
   "name": "python",
   "nbconvert_exporter": "python",
   "pygments_lexer": "ipython3",
   "version": "3.8.5"
  }
 },
 "nbformat": 4,
 "nbformat_minor": 5
}
