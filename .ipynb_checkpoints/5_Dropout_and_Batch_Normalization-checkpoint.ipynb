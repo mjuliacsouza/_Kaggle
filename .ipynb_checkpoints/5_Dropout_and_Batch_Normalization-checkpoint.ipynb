{
 "cells": [
  {
   "cell_type": "markdown",
   "id": "0c54b5f2",
   "metadata": {},
   "source": [
    "# Dropout and Batch Normalization\n",
    "\n",
    "Reference: [Kaggle](https://www.kaggle.com/code/ryanholbrook/dropout-and-batch-normalization)"
   ]
  },
  {
   "cell_type": "markdown",
   "id": "9ee4db50",
   "metadata": {},
   "source": [
    "## Dropout\n",
    "\n",
    "- can help correct overfitting\n",
    "- to recognize spurius patterns that happens on overfitting models, a network will often rely on a very specific combinations of weights, a ***conspiracy*** of weights, remove one and the conspiracy talls apart\n",
    "- this is the idea behind **dropout**, to breakup these conspiracies we randomly *drop out* some fraction of a layer's input units every step of training, making it much harder for the network to learn those spuriurs patterns in the traning data, searching for *general pattenrs*\n",
    "    - You could also think about dropout as creating a kind of ensemble of networks\n",
    "    \n",
    "    \n",
    "    \n",
    "```\n",
    "keras.Sequential([\n",
    "    # ...\n",
    "    layers.Dropout(rate=0.3), # apply 30% dropout to the next layer\n",
    "    layers.Dense(16),\n",
    "    # ...\n",
    "])\n",
    "\n",
    "```"
   ]
  },
  {
   "cell_type": "markdown",
   "id": "1d51de51",
   "metadata": {},
   "source": [
    "## Batch Normalization\n",
    "\n",
    "- can help correct training that is slow or unstable"
   ]
  }
 ],
 "metadata": {
  "kernelspec": {
   "display_name": "Python 3",
   "language": "python",
   "name": "python3"
  },
  "language_info": {
   "codemirror_mode": {
    "name": "ipython",
    "version": 3
   },
   "file_extension": ".py",
   "mimetype": "text/x-python",
   "name": "python",
   "nbconvert_exporter": "python",
   "pygments_lexer": "ipython3",
   "version": "3.8.5"
  }
 },
 "nbformat": 4,
 "nbformat_minor": 5
}
