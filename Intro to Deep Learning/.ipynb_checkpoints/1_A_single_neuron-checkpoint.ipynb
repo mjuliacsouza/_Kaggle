{
 "cells": [
  {
   "cell_type": "markdown",
   "id": "f0416d61",
   "metadata": {},
   "source": [
    "# A Single Neuron\n",
    "\n",
    "Reference: https://www.kaggle.com/code/ryanholbrook/a-single-neuron"
   ]
  },
  {
   "cell_type": "code",
   "execution_count": 1,
   "id": "693d22bd",
   "metadata": {},
   "outputs": [],
   "source": [
    "import pandas as pd\n",
    "import numpy as np\n",
    "\n",
    "import matplotlib.pyplot as plt\n",
    "import seaborn as sns"
   ]
  },
  {
   "cell_type": "markdown",
   "id": "a371fa33",
   "metadata": {},
   "source": [
    "Lets test with a dataset."
   ]
  },
  {
   "cell_type": "code",
   "execution_count": 33,
   "id": "da5b8730",
   "metadata": {},
   "outputs": [
    {
     "name": "stdout",
     "output_type": "stream",
     "text": [
      "(150, 5)\n"
     ]
    },
    {
     "data": {
      "text/html": [
       "<div>\n",
       "<style scoped>\n",
       "    .dataframe tbody tr th:only-of-type {\n",
       "        vertical-align: middle;\n",
       "    }\n",
       "\n",
       "    .dataframe tbody tr th {\n",
       "        vertical-align: top;\n",
       "    }\n",
       "\n",
       "    .dataframe thead th {\n",
       "        text-align: right;\n",
       "    }\n",
       "</style>\n",
       "<table border=\"1\" class=\"dataframe\">\n",
       "  <thead>\n",
       "    <tr style=\"text-align: right;\">\n",
       "      <th></th>\n",
       "      <th>sepal_length</th>\n",
       "      <th>sepal_width</th>\n",
       "    </tr>\n",
       "  </thead>\n",
       "  <tbody>\n",
       "    <tr>\n",
       "      <th>0</th>\n",
       "      <td>5.1</td>\n",
       "      <td>3.5</td>\n",
       "    </tr>\n",
       "    <tr>\n",
       "      <th>1</th>\n",
       "      <td>4.9</td>\n",
       "      <td>3.0</td>\n",
       "    </tr>\n",
       "    <tr>\n",
       "      <th>2</th>\n",
       "      <td>4.7</td>\n",
       "      <td>3.2</td>\n",
       "    </tr>\n",
       "    <tr>\n",
       "      <th>3</th>\n",
       "      <td>4.6</td>\n",
       "      <td>3.1</td>\n",
       "    </tr>\n",
       "    <tr>\n",
       "      <th>4</th>\n",
       "      <td>5.0</td>\n",
       "      <td>3.6</td>\n",
       "    </tr>\n",
       "  </tbody>\n",
       "</table>\n",
       "</div>"
      ],
      "text/plain": [
       "   sepal_length  sepal_width\n",
       "0           5.1          3.5\n",
       "1           4.9          3.0\n",
       "2           4.7          3.2\n",
       "3           4.6          3.1\n",
       "4           5.0          3.6"
      ]
     },
     "execution_count": 33,
     "metadata": {},
     "output_type": "execute_result"
    }
   ],
   "source": [
    "df = sns.load_dataset('iris')\n",
    "print(df.shape)\n",
    "df = df.iloc[:,:2]\n",
    "df.head()"
   ]
  },
  {
   "cell_type": "code",
   "execution_count": 34,
   "id": "7cfaace1",
   "metadata": {},
   "outputs": [
    {
     "data": {
      "text/plain": [
       "((150, 1), (150,))"
      ]
     },
     "execution_count": 34,
     "metadata": {},
     "output_type": "execute_result"
    }
   ],
   "source": [
    "x = df.iloc[:, :1].values\n",
    "y = df.iloc[:,1].values\n",
    "\n",
    "x.shape, y.shape"
   ]
  },
  {
   "cell_type": "markdown",
   "id": "0b67a8f6",
   "metadata": {},
   "source": [
    "So, species will be the `target` and the other columns will be the `variables`."
   ]
  },
  {
   "cell_type": "code",
   "execution_count": 35,
   "id": "42f32790",
   "metadata": {},
   "outputs": [],
   "source": [
    "from tensorflow import keras\n",
    "from tensorflow.keras import layers\n",
    "\n",
    "# Create a network with 1 linear unit (output) and 3 variables in the input\n",
    "# Creates a neural network as a stack of layers\n",
    "model = keras.Sequential([\n",
    "    layers.Dense(units=1, input_shape=[1])\n",
    "])"
   ]
  },
  {
   "cell_type": "markdown",
   "id": "26f7782b",
   "metadata": {},
   "source": [
    "Usually we'll have `input_shape=[num_coumns]` because we work with tabular data (Pandas Dataframe)."
   ]
  },
  {
   "cell_type": "markdown",
   "id": "8f74ca5b",
   "metadata": {},
   "source": [
    "We can have a look at the `weights` of the model:"
   ]
  },
  {
   "cell_type": "code",
   "execution_count": 36,
   "id": "bca0b369",
   "metadata": {},
   "outputs": [
    {
     "data": {
      "text/plain": [
       "[<tf.Variable 'dense_3/kernel:0' shape=(1, 1) dtype=float32, numpy=array([[0.06057811]], dtype=float32)>,\n",
       " <tf.Variable 'dense_3/bias:0' shape=(1,) dtype=float32, numpy=array([0.], dtype=float32)>]"
      ]
     },
     "execution_count": 36,
     "metadata": {},
     "output_type": "execute_result"
    }
   ],
   "source": [
    "model.weights"
   ]
  },
  {
   "cell_type": "markdown",
   "id": "d5b4964f",
   "metadata": {},
   "source": [
    "Lets look at the prediction"
   ]
  },
  {
   "cell_type": "code",
   "execution_count": 58,
   "id": "0d1cb59e",
   "metadata": {},
   "outputs": [
    {
     "data": {
      "text/plain": [
       "array([[0.30894834],\n",
       "       [0.29683274],\n",
       "       [0.28471708],\n",
       "       [0.27865928],\n",
       "       [0.30289054],\n",
       "       [0.3271218 ],\n",
       "       [0.27865928],\n",
       "       [0.30289054],\n",
       "       [0.2665437 ],\n",
       "       [0.29683274],\n",
       "       [0.3271218 ],\n",
       "       [0.29077494],\n",
       "       [0.29077494],\n",
       "       [0.2604859 ],\n",
       "       [0.35135305],\n",
       "       [0.3452952 ],\n",
       "       [0.3271218 ],\n",
       "       [0.30894834],\n",
       "       [0.3452952 ],\n",
       "       [0.30894834],\n",
       "       [0.3271218 ],\n",
       "       [0.30894834],\n",
       "       [0.27865928],\n",
       "       [0.30894834],\n",
       "       [0.29077494],\n",
       "       [0.30289054],\n",
       "       [0.30289054],\n",
       "       [0.31500614],\n",
       "       [0.31500614],\n",
       "       [0.28471708],\n",
       "       [0.29077494],\n",
       "       [0.3271218 ],\n",
       "       [0.31500614],\n",
       "       [0.3331796 ],\n",
       "       [0.29683274],\n",
       "       [0.30289054],\n",
       "       [0.3331796 ],\n",
       "       [0.29683274],\n",
       "       [0.2665437 ],\n",
       "       [0.30894834],\n",
       "       [0.30289054],\n",
       "       [0.2726015 ],\n",
       "       [0.2665437 ],\n",
       "       [0.30289054],\n",
       "       [0.30894834],\n",
       "       [0.29077494],\n",
       "       [0.30894834],\n",
       "       [0.27865928],\n",
       "       [0.321064  ],\n",
       "       [0.30289054],\n",
       "       [0.42404675],\n",
       "       [0.3876999 ],\n",
       "       [0.41798896],\n",
       "       [0.3331796 ],\n",
       "       [0.3937577 ],\n",
       "       [0.3452952 ],\n",
       "       [0.3816421 ],\n",
       "       [0.29683274],\n",
       "       [0.3998155 ],\n",
       "       [0.31500614],\n",
       "       [0.30289054],\n",
       "       [0.35741085],\n",
       "       [0.36346865],\n",
       "       [0.36952645],\n",
       "       [0.3392374 ],\n",
       "       [0.4058733 ],\n",
       "       [0.3392374 ],\n",
       "       [0.35135305],\n",
       "       [0.37558424],\n",
       "       [0.3392374 ],\n",
       "       [0.35741085],\n",
       "       [0.36952645],\n",
       "       [0.3816421 ],\n",
       "       [0.36952645],\n",
       "       [0.3876999 ],\n",
       "       [0.3998155 ],\n",
       "       [0.41193116],\n",
       "       [0.4058733 ],\n",
       "       [0.36346865],\n",
       "       [0.3452952 ],\n",
       "       [0.3331796 ],\n",
       "       [0.3331796 ],\n",
       "       [0.35135305],\n",
       "       [0.36346865],\n",
       "       [0.3271218 ],\n",
       "       [0.36346865],\n",
       "       [0.4058733 ],\n",
       "       [0.3816421 ],\n",
       "       [0.3392374 ],\n",
       "       [0.3331796 ],\n",
       "       [0.3331796 ],\n",
       "       [0.36952645],\n",
       "       [0.35135305],\n",
       "       [0.30289054],\n",
       "       [0.3392374 ],\n",
       "       [0.3452952 ],\n",
       "       [0.3452952 ],\n",
       "       [0.37558424],\n",
       "       [0.30894834],\n",
       "       [0.3452952 ],\n",
       "       [0.3816421 ],\n",
       "       [0.35135305],\n",
       "       [0.43010455],\n",
       "       [0.3816421 ],\n",
       "       [0.3937577 ],\n",
       "       [0.4603936 ],\n",
       "       [0.29683274],\n",
       "       [0.4422202 ],\n",
       "       [0.4058733 ],\n",
       "       [0.43616235],\n",
       "       [0.3937577 ],\n",
       "       [0.3876999 ],\n",
       "       [0.41193116],\n",
       "       [0.3452952 ],\n",
       "       [0.35135305],\n",
       "       [0.3876999 ],\n",
       "       [0.3937577 ],\n",
       "       [0.4664514 ],\n",
       "       [0.4664514 ],\n",
       "       [0.36346865],\n",
       "       [0.41798896],\n",
       "       [0.3392374 ],\n",
       "       [0.4664514 ],\n",
       "       [0.3816421 ],\n",
       "       [0.4058733 ],\n",
       "       [0.43616235],\n",
       "       [0.37558424],\n",
       "       [0.36952645],\n",
       "       [0.3876999 ],\n",
       "       [0.43616235],\n",
       "       [0.448278  ],\n",
       "       [0.47856706],\n",
       "       [0.3876999 ],\n",
       "       [0.3816421 ],\n",
       "       [0.36952645],\n",
       "       [0.4664514 ],\n",
       "       [0.3816421 ],\n",
       "       [0.3876999 ],\n",
       "       [0.36346865],\n",
       "       [0.41798896],\n",
       "       [0.4058733 ],\n",
       "       [0.41798896],\n",
       "       [0.35135305],\n",
       "       [0.41193116],\n",
       "       [0.4058733 ],\n",
       "       [0.4058733 ],\n",
       "       [0.3816421 ],\n",
       "       [0.3937577 ],\n",
       "       [0.37558424],\n",
       "       [0.35741085]], dtype=float32)"
      ]
     },
     "execution_count": 58,
     "metadata": {},
     "output_type": "execute_result"
    }
   ],
   "source": [
    "y_pred = model.predict(x)\n",
    "y_pred"
   ]
  }
 ],
 "metadata": {
  "kernelspec": {
   "display_name": "Python 3",
   "language": "python",
   "name": "python3"
  },
  "language_info": {
   "codemirror_mode": {
    "name": "ipython",
    "version": 3
   },
   "file_extension": ".py",
   "mimetype": "text/x-python",
   "name": "python",
   "nbconvert_exporter": "python",
   "pygments_lexer": "ipython3",
   "version": "3.8.5"
  }
 },
 "nbformat": 4,
 "nbformat_minor": 5
}
